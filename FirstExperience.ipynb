{
  "nbformat": 4,
  "nbformat_minor": 0,
  "metadata": {
    "colab": {
      "provenance": []
    },
    "kernelspec": {
      "name": "python3",
      "display_name": "Python 3"
    },
    "language_info": {
      "name": "python"
    }
  },
  "cells": [
    {
      "cell_type": "code",
      "source": [
        "import numpy as np\n",
        "import random"
      ],
      "metadata": {
        "id": "S2zVPKqdOPkD"
      },
      "execution_count": null,
      "outputs": []
    },
    {
      "cell_type": "code",
      "execution_count": null,
      "metadata": {
        "id": "7RpaCcjmNOtl"
      },
      "outputs": [],
      "source": [
        "num0 = np.array(list('111101101101111'))\n",
        "num1 = np.array(list('001001001001001'))\n",
        "num2 = np.array(list('111001111100111'))\n",
        "num3 = np.array(list('111001111001111'))\n",
        "num4 = np.array(list('101101111001001'))\n",
        "num5 = np.array(list('111100111001111'))\n",
        "num6 = np.array(list('111100111101111'))\n",
        "num7 = np.array(list('111001001001001'))\n",
        "num8 = np.array(list('111101111101111'))\n",
        "num9 = np.array(list('111101111001111'))\n",
        "\n",
        "num51 = list('111100111000111')\n",
        "num52 = list('111100010001111')\n",
        "num53 = list('111100011001111')\n",
        "num54 = list('110100111001111')\n",
        "num55 = list('110100111001011')\n",
        "num56 = list('111100101001111')\n",
        "\n",
        "nums = [num0, num1, num2, num3, num4, num5, num6, num7, num8, num9]"
      ]
    },
    {
      "cell_type": "code",
      "source": [
        "weights = [0 for i in range(15)]"
      ],
      "metadata": {
        "id": "p_l4s_7KPW1V"
      },
      "execution_count": null,
      "outputs": []
    },
    {
      "cell_type": "code",
      "source": [
        "bias = 7"
      ],
      "metadata": {
        "id": "Z0a9DhCMPApz"
      },
      "execution_count": null,
      "outputs": []
    },
    {
      "cell_type": "code",
      "source": [
        "def proceed(number):\n",
        "    return bias <= sum([int(n)*w for n,w in zip(number, weights)])"
      ],
      "metadata": {
        "id": "rdBCCvEVO3cj"
      },
      "execution_count": null,
      "outputs": []
    },
    {
      "cell_type": "code",
      "source": [
        "def increase(number):\n",
        "    for i in range(len(number)):\n",
        "        if number[i] == '1':\n",
        "            weights[i] += 1"
      ],
      "metadata": {
        "id": "fkyTrKcPP7g3"
      },
      "execution_count": null,
      "outputs": []
    },
    {
      "cell_type": "code",
      "source": [
        "def decrease(number):\n",
        "    for i in range(len(number)):\n",
        "        if number[i] == '1':\n",
        "            weights[i] -= 1"
      ],
      "metadata": {
        "id": "-b6esbh_mDm-"
      },
      "execution_count": null,
      "outputs": []
    },
    {
      "cell_type": "code",
      "source": [
        "j = 0\n",
        "for i in range(10000):\n",
        "    if j != 5 and proceed(nums[j]):\n",
        "        decrease(nums[j])\n",
        "    elif j == 5 and not proceed(nums[j]):\n",
        "        increase(nums[j])\n",
        "    if (j + 1) == 10:\n",
        "        j = 0\n",
        "    else:\n",
        "        j += 1"
      ],
      "metadata": {
        "id": "LLi_clFBQljM"
      },
      "execution_count": null,
      "outputs": []
    },
    {
      "cell_type": "code",
      "source": [
        "print(weights)\n",
        " \n",
        "print(\"0 это 5? \", proceed(num0))\n",
        "print(\"1 это 5? \", proceed(num1))\n",
        "print(\"2 это 5? \", proceed(num2))\n",
        "print(\"3 это 5? \", proceed(num3))\n",
        "print(\"4 это 5? \", proceed(num4))\n",
        "print(\"6 это 5? \", proceed(num6))\n",
        "print(\"7 это 5? \", proceed(num7))\n",
        "print(\"8 это 5? \", proceed(num8))\n",
        "print(\"9 это 5? \", proceed(num9), '\\n')\n",
        " \n",
        "print(\"Узнал 5? \", proceed(num5))\n",
        "print(\"Узнал 5 - 1? \", proceed(num51))\n",
        "print(\"Узнал 5 - 2? \", proceed(num52))\n",
        "print(\"Узнал 5 - 3? \", proceed(num53))\n",
        "print(\"Узнал 5 - 4? \", proceed(num54))\n",
        "print(\"Узнал 5 - 5? \", proceed(num55))\n",
        "print(\"Узнал 5 - 6? \", proceed(num56))"
      ],
      "metadata": {
        "colab": {
          "base_uri": "https://localhost:8080/"
        },
        "id": "Q6mb9v9imlGe",
        "outputId": "45d8eb7a-7600-46c0-98c8-8cd139447647"
      },
      "execution_count": null,
      "outputs": [
        {
          "output_type": "stream",
          "name": "stdout",
          "text": [
            "[1, 1, 1, 1, 0, -5, 1, 1, 1, -5, 0, 1, 1, 1, 1]\n",
            "0 это 5?  False\n",
            "1 это 5?  False\n",
            "2 это 5?  False\n",
            "3 это 5?  False\n",
            "4 это 5?  False\n",
            "6 это 5?  False\n",
            "7 это 5?  False\n",
            "8 это 5?  False\n",
            "9 это 5?  False \n",
            "\n",
            "Узнал 5?  True\n",
            "Узнал 5 - 1?  True\n",
            "Узнал 5 - 2?  True\n",
            "Узнал 5 - 3?  True\n",
            "Узнал 5 - 4?  True\n",
            "Узнал 5 - 5?  True\n",
            "Узнал 5 - 6?  True\n"
          ]
        }
      ]
    }
  ]
}